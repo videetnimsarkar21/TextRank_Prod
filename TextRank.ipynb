{
 "cells": [
  {
   "cell_type": "code",
   "execution_count": 2,
   "metadata": {},
   "outputs": [],
   "source": [
    "import numpy as np\n",
    "word_embeddings = {}\n",
    "f = open('C:/users/Videet/1/glove.6B.100d.txt', encoding='utf-8')\n",
    "for line in f:\n",
    "    values = line.split()\n",
    "    word = values[0]\n",
    "    coefs = np.asarray(values[1:], dtype='float32')\n",
    "    word_embeddings[word] = coefs\n",
    "f.close()"
   ]
  },
  {
   "cell_type": "code",
   "execution_count": 5,
   "metadata": {},
   "outputs": [],
   "source": [
    "import tika,re\n",
    "from tika import parser\n",
    "tika.initVM()\n",
    "file = '1.txt'\n",
    "# Parse data from file\n",
    "file_data = parser.from_file(file)\n",
    "# Get files text content\n",
    "article_text = file_data['content']"
   ]
  },
  {
   "cell_type": "code",
   "execution_count": 6,
   "metadata": {},
   "outputs": [],
   "source": [
    "article_text = re.sub(r'\\[[0-9]*\\]', ' ', article_text)  \n",
    "article_text = re.sub(r'\\s+', ' ', article_text) \n",
    "formatted_article_text = re.sub('[^a-zA-Z]', ' ', article_text )  \n",
    "formatted_article_text = re.sub(r'\\s+', ' ', formatted_article_text)  "
   ]
  },
  {
   "cell_type": "code",
   "execution_count": 7,
   "metadata": {},
   "outputs": [
    {
     "data": {
      "text/plain": [
       "' Anurag Mohan Nair 302, Saga Tower, Plot No. 97, Sec – 27, Nerul (E), Navi Mumbai || E Mail - nair.anurag@outlook.com Phone: +91 7208850948 Page 1 of 2 Objective – Seeking a position in an IT company, so as to obtain a platform to portray my technical and inter-personal skills, while refining and developing my programming and creative abilities. Education ? University of Mumbai, Pillai’s College of Engineering Panvel, Maharashtra Third Year, Computer Science Engineering Current Overall GPA: 8.1 ? D.A.V Public School, Nerul Navi Mumbai, Maharashtra o HSC (CBSE) May 2014, 82.6% o SSC (CBSE) May 2012, 83.6% Relevant Technical Coursework & Projects ? Website Development- Created a website using HTML, CSS, JavaScript and PHP for a gaming forum where users can create their accounts and read about various new games in the market and make comments and talk with other users. ? Chat Application- Created a chat application using Socket Programming and Java. The application could run on multiple systems simultaneously allowing many users to communicate at the same time. ? Ticket Booking Application- Created an offline movie ticket booking system using Eclipse and MySQL. Technical Skills / Knowledge ? Programming & Scripting Languages: C/C++, Java, SQL, HTML, PHP, JavaScript. ? Familiar with all major operating systems – Linux (Ubuntu), Mac OSX, and Windows. ? Also very familiar with all major MS Office applications like Excel, Word, and PowerPoint. ? Virtualization Platforms: VMWare, VirtualBox. Skills & Abilities Communication: ? Took part in numerous elocutions, debates and group discussions during school years and served in the publicity department for the Computer Society of India in college. mailto:nair.anurag@outlook.com Anurag Mohan Nair 302, Saga Tower, Plot No. 97, Sec – 27, Nerul (E), Navi Mumbai || E Mail - nair.anurag@outlook.com Phone: +91 7208850948 Page 2 of 2 Leadership Experience: ? Lead the publicity team for the Computer Society of India (CSI) for two years. ? Won the CodeRun programming competition held under the banner of Algeria in 2016. '"
      ]
     },
     "execution_count": 7,
     "metadata": {},
     "output_type": "execute_result"
    }
   ],
   "source": [
    "article_text"
   ]
  },
  {
   "cell_type": "code",
   "execution_count": 8,
   "metadata": {},
   "outputs": [],
   "source": [
    "import nltk\n",
    "sentence_list = nltk.sent_tokenize(article_text)  "
   ]
  },
  {
   "cell_type": "code",
   "execution_count": 9,
   "metadata": {},
   "outputs": [],
   "source": [
    "import pandas as pd\n",
    "clean_sentences = pd.Series(sentence_list).str.replace(\"[^a-zA-Z]\", \" \")\n",
    "\n",
    "# make alphabets lowercase\n",
    "clean_sentences = [s.lower() for s in clean_sentences]\n",
    "from nltk.corpus import stopwords\n",
    "stop_words = stopwords.words('english')\n",
    "\n",
    "def remove_stopwords(sen):\n",
    "    sen_new = \" \".join([i for i in sen if i not in stop_words])\n",
    "    return sen_new\n",
    "clean_sentences = [remove_stopwords(r.split()) for r in clean_sentences]\n"
   ]
  },
  {
   "cell_type": "code",
   "execution_count": 10,
   "metadata": {},
   "outputs": [],
   "source": [
    "sentence_vectors = []\n",
    "for i in clean_sentences:\n",
    "    if len(i) != 0:\n",
    "        v = sum([word_embeddings.get(w, np.zeros((100,))) for w in i.split()])/(len(i.split())+0.001)\n",
    "    else:\n",
    "        v = np.zeros((100,))\n",
    "    sentence_vectors.append(v)"
   ]
  },
  {
   "cell_type": "code",
   "execution_count": 11,
   "metadata": {},
   "outputs": [],
   "source": [
    "sim_mat = np.zeros([len(sentence_list), len(sentence_list)])\n"
   ]
  },
  {
   "cell_type": "code",
   "execution_count": 12,
   "metadata": {},
   "outputs": [],
   "source": [
    "from sklearn.metrics.pairwise import cosine_similarity\n",
    "for i in range(len(sentence_list)):\n",
    "    for j in range(len(sentence_list)):\n",
    "        if i != j:\n",
    "            sim_mat[i][j] = cosine_similarity(sentence_vectors[i].reshape(1,100), sentence_vectors[j].reshape(1,100))[0,0]"
   ]
  },
  {
   "cell_type": "code",
   "execution_count": 13,
   "metadata": {},
   "outputs": [
    {
     "name": "stdout",
     "output_type": "stream",
     "text": [
      "97, Sec – 27, Nerul (E), Navi Mumbai || E Mail - nair.anurag@outlook.com Phone: +91 7208850948 Page 1 of 2 Objective – Seeking a position in an IT company, so as to obtain a platform to portray my technical and inter-personal skills, while refining and developing my programming and creative abilities.\n"
     ]
    }
   ],
   "source": [
    "import networkx as nx\n",
    "\n",
    "nx_graph = nx.from_numpy_array(sim_mat)\n",
    "scores = nx.pagerank(nx_graph)\n",
    "ranked_sentences = sorted(((scores[i],s) for i,s in enumerate(sentence_list)), reverse=True)\n",
    "for i in range(1):\n",
    "    print(ranked_sentences[i][1])"
   ]
  },
  {
   "cell_type": "code",
   "execution_count": null,
   "metadata": {},
   "outputs": [],
   "source": []
  }
 ],
 "metadata": {
  "kernelspec": {
   "display_name": "Python 3",
   "language": "python",
   "name": "python3"
  },
  "language_info": {
   "codemirror_mode": {
    "name": "ipython",
    "version": 3
   },
   "file_extension": ".py",
   "mimetype": "text/x-python",
   "name": "python",
   "nbconvert_exporter": "python",
   "pygments_lexer": "ipython3",
   "version": "3.7.3"
  }
 },
 "nbformat": 4,
 "nbformat_minor": 2
}
