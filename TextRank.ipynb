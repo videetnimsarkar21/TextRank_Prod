{
 "cells": [
  {
   "cell_type": "code",
   "execution_count": 33,
   "metadata": {},
   "outputs": [],
   "source": [
    "import re\n",
    "'''import bs4 as bs  \n",
    "import urllib.request  \n",
    "\n",
    "scraped_data = urllib.request.urlopen('https://en.wikipedia.org/wiki/Artificial_intelligence')  \n",
    "article = scraped_data.read()\n",
    "\n",
    "parsed_article = bs.BeautifulSoup(article,'lxml')\n",
    "\n",
    "paragraphs = parsed_article.find_all('p')\n",
    "\n",
    "article_text = \"\"\n",
    "\n",
    "for p in paragraphs:  \n",
    "    article_text += p.text '''\n",
    "\n",
    "f = open('1.txt','r')\n",
    "article_text =f.read()\n",
    "\n"
   ]
  },
  {
   "cell_type": "code",
   "execution_count": 34,
   "metadata": {},
   "outputs": [],
   "source": [
    "article_text = re.sub(r'\\[[0-9]*\\]', ' ', article_text)  \n",
    "article_text = re.sub(r'\\s+', ' ', article_text) \n",
    "formatted_article_text = re.sub('[^a-zA-Z]', ' ', article_text )  \n",
    "formatted_article_text = re.sub(r'\\s+', ' ', formatted_article_text)  "
   ]
  },
  {
   "cell_type": "code",
   "execution_count": 35,
   "metadata": {},
   "outputs": [
    {
     "data": {
      "text/plain": [
       "\"Pressured by senior management and boards of directors for more frequent and detailed internal audit and risk assessment information, many audit and risk executives are evaluating their reliance on office productivity tools such as word processing programs and spreadsheets as their primary solution for managing internal audit processes. The decision by internal auditors to use spreadsheets is not surprising, given the pervasiveness, ease of use, low cost, and a user’s general familiarity with the application. While it is easy to create some light-weight solutions using personal productivity tools, many leading audit organizations have found that in the long run, spreadsheet-based solutions become part of the problem rather than part of the solution. Using spreadsheets to manage the internal audit functions presents two considerable problems. The first challenge stems from the inherently risky nature of spreadsheets; their usage poses a significant vulnerability from unauthorized access and data loss. Secondly, like any profession, the choice of tool drives the services provided. Spreadsheets perpetuate hit and run audit practices where internal auditors conduct an audit, issue a report, but leave nothing behind to benefit management on an ongoing basis. This whitepaper will first explore why internal auditors still rely on spreadsheets and the pitfalls associated with this approach. It next establishes key criteria that an effective internal audit tool must meet and examines the impact of technology on both the internal audit process and the role of internal auditing. WHY SPREADSHEETS ARE STILL PERVASIVE IN INTERNAL AUDIT Surveys indicate that the low-tech solutions of Word® documents and spreadsheets are still favorite tools of auditors and other assurance specialists working in departmental and organizational silos. The reasons often cited include: · The company’s external auditors, who often influence the choice of tools, are comfortable with spreadsheets and often recommend they be used for SOX or other governance, risk and compliance assessment work. · The initial investment to implement spreadsheets is low since most companies already have licenses to use Excel® or equivalent software. · Less training is required as most internal audit new hires are familiar with spreadsheet packages. · Audit standards are still evolving and the regulatory agencies change the rules frequently. Spreadsheets allow the user to modify the system any time. · Many audit organizations have been slow to adopt the IIA International Professional Practices Framework (IPPF) standards. These standards require internal auditors to examine and form an opinion on management’s risk and control practices. However, as more audit departments incorporate these standards, they will find it hard to support the requirements with a spreadsheet. Leading audit organizations recognize that spreadsheets are not sustainable solutions. INTERNAL AUDIT AUTOMATION: CHOOSING THE RIGHT TOOL TO EMPOWER INTERNAL AUDIT 2 THE PITFALLS OF USING SPREADSHEETS FOR INTERNAL AUDIT Spreadsheets are cheap, user friendly and easy to implement. All of these features are key attributes; however, spreadsheets fall short in several areas: Spreadsheets are transparency killers: It is impossible to show stakeholders and investors the link between risks, controls and risk acceptance decisions. To ensure that controls perform as required, it is essential that the people responsible for the controls, and their managers, are able to see the relationship between objectives, risks, the controls in place, and ideally, the actual results being achieved. This fundamental transparency prerequisite underpins the total quality movement and well known process analysis techniques like Six Sigma. Spreadsheets are not well suited to display and continuously track that relationship. Transparency is critical to governance, risk and compliance (GRC). Spreadsheets are transparency killers. Spreadsheets block performance measurement or performance improvement: Spreadsheets were not created to monitor business performance or to support process improvement. Spreadsheets are capable of documenting and reporting simple relationships, but they are not designed or intended to integrate with other systems, to serve as dashboards, or to identify and support process improvements. Performance measurement analysis and improvement requires enterprise consolidation and the ability to identify and track trends and opportunities. Spreadsheets are unable to support consistent methodologies, consistent consolidation of data and intelligent business analysis. Spreadsheets kill collaboration, work flow and accountability: A central requirement of enterprise audit software is the ability to assign owners to processes, risks, controls, and compliance policies. Another is to manage the work processes of control testing, verification, audit, and issue and remediation documentation on the GRC data elements. Spreadsheets simply are not designed for and do not succeed in supporting multi-user, process-centric working environments. Worse still, the lack of multi-user capability leads to a proliferation of spreadsheets created for each user group and purpose. Collaboration with spreadsheets is a manual task requiring multiple iterations. Spreadsheets are inherently unreliable and lack security: Most of the processes in a row and column grid are overly complex, duplicative and fragmented. For auditors, the implication is that spreadsheets act as end-user computing of high risk, manual processes. Version control, change control, audit ability and integrity are all well documented issues with spreadsheets. While they can sometimes be overcome, the cost and effort of doing so may be enormous. Spreadsheets threaten compliance over record retention: Most compliance programs have strict standards and guidelines regarding records retention. While the flexible nature of spreadsheets allows users to quickly create and modify data and structure, this flexibility does not lend itself well to compliance records retention. In contrast, a purpose-built GRC technology that relies on functionality built on relational databases by design has the capabilities to satisfy the most strict records retention requirements. Spreadsheet costs are huge, but hidden: Spreadsheets, on the surface at least, appear to be a very inexpensive option for internal audit or other assurance users. Most companies and their auditors and advisors already have enterprise level licenses. The savings is more illusory than real. Few internal audit departments tracked the full range of cost drivers including: the time consumed of internal staff, the cost of any external contract staff, and the time charged by the company’s external auditor. Once companies begin to examine ongoing assurance requirements for GRC (e.g., the section 302 requirements to report on material changes in the control environment, provide updates on progress resolving significant deficiencies and material weaknesses, and on a quarterly basis report new significant deficiencies and material weaknesses detected to the audit committee and external auditor), the real costs and deficiencies of using spreadsheets for documentation will begin to emerge. Spreadsheets are transparency killers. They make it impossible to demonstrate to stakeholders the link between risks, controls, and risk acceptance decisions. INTERNAL AUDIT AUTOMATION: CHOOSING THE RIGHT TOOL TO EMPOWER INTERNAL AUDIT 3 REQUIREMENTS FOR EFFECTIVE INTERNAL AUDIT TECHNOLOGY The workload on internal audit departments is overwhelming. Companies are requiring auditors not only to capture and store more detailed information in electronic workpapers, and provide more frequent and complex reports to a more diverse, senior audience, but to expand their scope to include risk assessment and compliance. Spreadsheets simply do not empower internal auditors to meet these demands with efficiency or time and cost effectiveness. To manage these responsibilities, audit departments are realizing that automation can improve both the quantity and quality of information on the status of risks and controls and help to more effectively manage and communicate the information. However, to meet their needs, internal audit technology must satisfy five basic requirements. STRUCTURE: Any technology for creating and storing information about risks and controls must have a defined structure. Just as financial accounting software must have fields and forms to capture financial information, software for capturing information about risks and controls must have a basic structure. Risks and controls must be linked to key contexts such as organization structure and business processes, and they must be described using common language. In effect, structuring a system to capture risk and control information is analogous to designing and maintaining a chart of accounts for a financial accounting system. RELATIONAL: Risk and control information must be linked. Issues must be linked to the risks or controls they relate to. Weak controls must be seen in the context of the business strategy they impact. Significant risks must be linked to the business processes they threaten. COLLABORATIVE: In order to improve the quantity and quality of risk and control information it is essential that technology promotes collaboration among people and departments. It is simply not possible for internal audit to create and maintain all the required information. Increasingly, management must be responsible for designing and assessing their risks and controls and making that information available to others. Locking risk and control information in spreadsheets creates an obstacle to collaboration. DOCUMENTATION: Documentation is the transactional information of risk and control management. The specific attributes of risks and controls and various ratings associated with risks and controls cannot be effectively captured in spreadsheets. Each risk and control, along with parent and child documents, and documentary evidence can be captured far better in a relational database. SECURITY AND VERIFIABILITY: The requirement to share and distribute information in an electronic format places a more focused emphasis on both data access and information security. Ad hoc use of spreadsheet-based security controls falls short of the requirements of enterprise system security disciplines. A TOOL TO PROMOTE THE EXPANDED ROLE OF INTERNAL AUDIT Internal audit is expanding its role in business operations. Similar to managing the financial accounting, planning, budgeting, consolidation or reporting functions in any major corporation, managing an internal audit function requires more than an ad hoc approach. For example, financial management requires clear, consistent accounting policies to determine what gets in the books, as well as sophisticated financial systems to capture, manage, analyze and report on the financial information transactions and reports. The real role of internal audit is to drive up the quantity and quality of reliable information on the status of risks and controls and to make the data available continuously to all key stakeholders. Audits are just one means to this goal; they are not the end product. Purpose-built, enterprise technology is necessary to build and maintain information on the status of risks and controls. Spreadsheets do not support multi-user, process-centric working environments. INTERNAL AUDIT AUTOMATION: CHOOSING THE RIGHT TOOL TO EMPOWER INTERNAL AUDIT 4 The role of internal auditors is expanding to the business of providing clear, concise, timely and accurate information that enables key executives and the board to make decisions. What internal audit should not be is in the auditing business. Spreadsheets only support the audit business, not the ongoing creation and management of reliable information. THE IMPACT OF A PURPOSE-BUILT SOLUTION A comprehensive internal audit solution optimizes the core internal audit disciplines and provides support for the multiple disciplines of GRC — internal audit, financial controls management, enterprise risk management, operational risk management, IT governance, and compliance. Compared to spreadsheets, a purpose-built solution provides greater efficiency, improved collaboration, and reduces the time and resource costs associated with GRC processes. The technology is essential if internal audit is to live up to its role of bringing a systematic, disciplined approach to evaluate and improve the effectiveness of risk management, control and governance processes. A well integrated solution provides a common set of functionality for each internal audit process owner with shared functionality for common activities such as risk assessment, process documentation and issue tracking. Leveraging a shared data model, a well architected solution enables the consistent sharing of definitions and terms, organizational reporting structures, and relationships between controls and the associated audit results. Eliminating the redundant efforts saves money by minimizing data entry, improving accuracy and enhancing collaboration, efficiency and consistency. CONCLUSION Regardless of the business process, the temptation for a quick-fix technology solution using spreadsheets exists. However, as your business processes mature, requirements become more complex, and the need to scale across multiple users and departments increases, the true cost of spreadsheets becomes a significant liability. As leading organizations mature their integrated GRC processes, the need to invest in purpose-built internal audit management solutions to support, automate, and drive efficiencies in the processes grows. Although spreadsheets are prevalent and add value to all finance functions, they are seldom the source of record for financial knowledge. If spreadsheets are not good enough to be used as a general ledger, why would they suffice as the central source of knowledge for the status of an organization’s risks and controls? Similar to the evolution of general ledger, accounts payable, and budgeting and planning business processes, internal audit has now reached the maturity stage where investment in purpose-built technology is considered to be a best practice. The real role of internal audit is to drive up the quantity and quality of reliable information on the status of risks and controls … ABOUT THOMSON REUTERS – PAISLEY GRC SOLUTIONS Thomson Reuters is the world’s leading source of intelligent information for businesses and professionals. The company combines industry expertise with innovative technology to deliver critical information for leading decision-makers in the financial, legal, tax and accounting, scientific and healthcare markets. Paisley, acquired by Thomson Reuters in 2008, is the governance, risk and compliance platform business unit of Thomson Reuters. Combining Paisley’s market leading software with the comprehensive Thomson Reuter’s intelligent information solutions delivers the most comprehensive GRC solution for audit, risk and compliance professionals. Over 1,400 organizations, spanning 60 countries and serving more than 140,000 users in a wide range of industries, utilize Paisley GRC solutions to streamline processes, reduce costs of compliance, manage and mitigate risks, and provide visibility, oversight and assurance. The Paisley GRC solutions include functionality for audit management, financial controls management, enterprise risk management, operational risk management, IT governance, and compliance. Paisley offers several software delivery options including on-premises, hosted application deployment, or software as a service (SaaS) delivery.'\""
      ]
     },
     "execution_count": 35,
     "metadata": {},
     "output_type": "execute_result"
    }
   ],
   "source": [
    "article_text"
   ]
  },
  {
   "cell_type": "code",
   "execution_count": 36,
   "metadata": {},
   "outputs": [],
   "source": [
    "import nltk\n",
    "sentence_list = nltk.sent_tokenize(article_text)  "
   ]
  },
  {
   "cell_type": "code",
   "execution_count": 37,
   "metadata": {},
   "outputs": [],
   "source": [
    "import pandas as pd\n",
    "clean_sentences = pd.Series(sentence_list).str.replace(\"[^a-zA-Z]\", \" \")\n",
    "\n",
    "# make alphabets lowercase\n",
    "clean_sentences = [s.lower() for s in clean_sentences]\n",
    "from nltk.corpus import stopwords\n",
    "stop_words = stopwords.words('english')\n",
    "\n",
    "def remove_stopwords(sen):\n",
    "    sen_new = \" \".join([i for i in sen if i not in stop_words])\n",
    "    return sen_new\n",
    "clean_sentences = [remove_stopwords(r.split()) for r in clean_sentences]\n"
   ]
  },
  {
   "cell_type": "code",
   "execution_count": 38,
   "metadata": {},
   "outputs": [],
   "source": [
    "word_embeddings = {}\n",
    "f = open('C:/users/Videet/1/glove.6B.100d.txt', encoding='utf-8')\n",
    "for line in f:\n",
    "    values = line.split()\n",
    "    word = values[0]\n",
    "    coefs = np.asarray(values[1:], dtype='float32')\n",
    "    word_embeddings[word] = coefs\n",
    "f.close()"
   ]
  },
  {
   "cell_type": "code",
   "execution_count": 39,
   "metadata": {},
   "outputs": [],
   "source": [
    "sentence_vectors = []\n",
    "for i in clean_sentences:\n",
    "    if len(i) != 0:\n",
    "        v = sum([word_embeddings.get(w, np.zeros((100,))) for w in i.split()])/(len(i.split())+0.001)\n",
    "    else:\n",
    "        v = np.zeros((100,))\n",
    "    sentence_vectors.append(v)"
   ]
  },
  {
   "cell_type": "code",
   "execution_count": 40,
   "metadata": {},
   "outputs": [],
   "source": [
    "sim_mat = np.zeros([len(sentence_list), len(sentence_list)])\n"
   ]
  },
  {
   "cell_type": "code",
   "execution_count": 41,
   "metadata": {},
   "outputs": [],
   "source": [
    "from sklearn.metrics.pairwise import cosine_similarity\n",
    "for i in range(len(sentence_list)):\n",
    "    for j in range(len(sentence_list)):\n",
    "        if i != j:\n",
    "            sim_mat[i][j] = cosine_similarity(sentence_vectors[i].reshape(1,100), sentence_vectors[j].reshape(1,100))[0,0]"
   ]
  },
  {
   "cell_type": "code",
   "execution_count": 42,
   "metadata": {},
   "outputs": [
    {
     "name": "stdout",
     "output_type": "stream",
     "text": [
      "Just as financial accounting software must have fields and forms to capture financial information, software for capturing information about risks and controls must have a basic structure.\n",
      "Spreadsheets kill collaboration, work flow and accountability: A central requirement of enterprise audit software is the ability to assign owners to processes, risks, controls, and compliance policies.\n",
      "The real role of internal audit is to drive up the quantity and quality of reliable information on the status of risks and controls and to make the data available continuously to all key stakeholders.\n",
      "A well integrated solution provides a common set of functionality for each internal audit process owner with shared functionality for common activities such as risk assessment, process documentation and issue tracking.\n",
      "For example, financial management requires clear, consistent accounting policies to determine what gets in the books, as well as sophisticated financial systems to capture, manage, analyze and report on the financial information transactions and reports.\n",
      "Pressured by senior management and boards of directors for more frequent and detailed internal audit and risk assessment information, many audit and risk executives are evaluating their reliance on office productivity tools such as word processing programs and spreadsheets as their primary solution for managing internal audit processes.\n",
      "While it is easy to create some light-weight solutions using personal productivity tools, many leading audit organizations have found that in the long run, spreadsheet-based solutions become part of the problem rather than part of the solution.\n"
     ]
    }
   ],
   "source": [
    "import networkx as nx\n",
    "\n",
    "nx_graph = nx.from_numpy_array(sim_mat)\n",
    "scores = nx.pagerank(nx_graph)\n",
    "ranked_sentences = sorted(((scores[i],s) for i,s in enumerate(sentence_list)), reverse=True)\n",
    "for i in range(7):\n",
    "    print(ranked_sentences[i][1])"
   ]
  },
  {
   "cell_type": "code",
   "execution_count": null,
   "metadata": {},
   "outputs": [],
   "source": []
  }
 ],
 "metadata": {
  "kernelspec": {
   "display_name": "Python 3",
   "language": "python",
   "name": "python3"
  },
  "language_info": {
   "codemirror_mode": {
    "name": "ipython",
    "version": 3
   },
   "file_extension": ".py",
   "mimetype": "text/x-python",
   "name": "python",
   "nbconvert_exporter": "python",
   "pygments_lexer": "ipython3",
   "version": "3.7.3"
  }
 },
 "nbformat": 4,
 "nbformat_minor": 2
}
