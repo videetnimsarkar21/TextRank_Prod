{
 "cells": [
  {
   "cell_type": "code",
   "execution_count": 11,
   "metadata": {},
   "outputs": [],
   "source": [
    "import PyPDF2 \n",
    "import numpy as np\n",
    "import re\n",
    "f = open('Auditing-AD-46019.pdf','rb')\n",
    "article_text = ''\n",
    "pdfReader = PyPDF2.PdfFileReader(f)\n",
    "count = pdfReader.numPages\n",
    "for i in range(count):\n",
    "    page = pdfReader.getPage(i)\n",
    "    article_text += page.extractText()\n",
    "    \n",
    "article_text ='''About The Microsoft Domain Environments:\n",
    "What to expect about Domain Environments is:\n",
    "Mother Servers: Servers that runs Active Directory services aka Domain Controllers,\n",
    "Child Servers: Microsoft Servers for deal with spesific needs (IIS Server, MSSQL Server etc.),\n",
    "Client Machines: For usage of clients (Win7, Win10 etc),\n",
    "Domain Admin Group Users: Users with highest level privilege in Domain forest which can\n",
    "controll all computers in domain forest,\n",
    "Other Groups and Users: Users created by Domain Admin users for spesific privileges.\n",
    "**A local user of Client Machine or Child server is not an AD user, but by using that user an AD\n",
    "user can be gained.**\n",
    "A Domain Controller authenticates and authorizes all users and computers in a Windows Domain\n",
    "Forest and it can enforce security policies for all computers and can also install or update software.\n",
    "Just like as it sounds, every local administrator users of Domain Controller is basicly Domain\n",
    "Admin. By using these users, all jobs described above can be done via any computer of Domain\n",
    "Forest (without accessing DC remotely).\n",
    "Schema & More Detail: https://docs.microsoft.com/en-us/windows-server/identity/ad-ds/plan/usingthe-\n",
    "organizational-domain-forest-model\n",
    "Auditing Microsoft Domain Environment 3\n",
    "Auditing Microsoft Domain Environment\n",
    "About Auditing:\n",
    "Our golden mission is capturing Domain Admin User due to gain complete control in all Domain\n",
    "computers. But, in some scenarios users with fewer level privileges can lead to huge information\n",
    "leaks. Therefore, in the way of capturing a Domain Admin user we do try gaining as much as user\n",
    "we can.\n",
    "In internal penetration tests, companies usually provide strictly low privileged active directory users\n",
    "to penetration testers and also sometimes, we do gain a few users by exploiting vulnerabilities,\n",
    "sniffing&spoofing attacks, social engineering attacks and password attacks etc. By using those users\n",
    "we capture compromise whole domain forest.\n",
    "In this article, I will show few ways I've been using Penetration against Microsoft Domain\n",
    "Envrioments.\n",
    "Auditing Microsoft Domain Environment 4\n",
    "Auditing Microsoft Domain Environment\n",
    "Gaining First User:\n",
    "Usually, if i’m not in a isolated LAN network i do try LLMNR&NBNTS spoofing attacks due to\n",
    "gain an account. To do so, there is a great tool exists called Responder.\n",
    "If you are new to this topics here is quick 101:\n",
    "LLMNR: Link Local Multicast Name Resolution (LLMNR) is a protocol defined in RFC 4795 that\n",
    "allows both IPv6 and IPv4 hosts to perform name resolution for the names of neighboring\n",
    "computers without requiring a DNS server or DNS client configuration.\n",
    "NBT-NS is a similar protocol to LLMNR that serves the same purpose. The main difference\n",
    "between the two is NBT-NS works over IPv4 only\n",
    "LLMNR&NBT-NS Spoofing:\n",
    "Whenever a user try to reach an unexisted sharepoint or computer which cannot be find by DNS\n",
    "queries, user asks whole network to “Anyone knows where is this \\\\sharepoint” by using LLMNR\n",
    "queries. Pretty much as it sounds, if an attacker says “Yeah its right here” attacker can capture users\n",
    "Ntlm / Ntlmv2 hashes as soon as user(victim) try to connect attacker’s machine.\n",
    "https://en.wikipedia.org/wiki/Link-Local_Multicast_Name_Resolution\n",
    "Auditing Microsoft Domain Environment 5\n",
    "Auditing Microsoft Domain Environment\n",
    "Setting Up Spoofing Environment:\n",
    "As we mentioned before, there is a great tool exist for performing this job. In default Kali Linux\n",
    "setup, you reach your responder by typing Responder on your terminal. It uses SMB Server to\n",
    "capture Ntlm hashes so stop your smb service if its running (service smbd stop).Enumerating AD Users and Groups With Gained User:\n",
    "We captured a user so what’s next ?\n",
    "After capturing a user first thing we need to do is checking its privileges, in this article we will be\n",
    "pretending like the user we captured has very low privilege. Lets say that we didn’t go further\n",
    "(privesc etc.) with this privileges. Even if we cant elevate our privileges with the user we captured\n",
    "we still can do enumerate Active Directory users, computers, groups etc. by using ldap queries for\n",
    "further investigation. To do so Im using a script from github called windapsearch which can\n",
    "perform many ldap jobs very fast.Checking Common Vulnerabilities:\n",
    "As we see from above, we have an indows 7 client and also an SQL server exists on domain forest.\n",
    "Lets check if there is ms17_010 vulnerability exists on those systems and also we must consider to\n",
    "check if sa user of mssql service is suffering from basic password usage.\n",
    "Checking ms17_010 vulnerability:'''    "
   ]
  },
  {
   "cell_type": "code",
   "execution_count": 12,
   "metadata": {},
   "outputs": [],
   "source": [
    "article_text = re.sub(r'\\[[0-9]*\\]', ' ', article_text)  \n",
    "article_text = re.sub(r'\\s+', ' ', article_text) \n",
    "formatted_article_text = re.sub('[^a-zA-Z]', ' ', article_text )  \n",
    "formatted_article_text = re.sub(r'\\s+', ' ', formatted_article_text)  "
   ]
  },
  {
   "cell_type": "code",
   "execution_count": 13,
   "metadata": {},
   "outputs": [
    {
     "data": {
      "text/plain": [
       "\"About The Microsoft Domain Environments: What to expect about Domain Environments is: Mother Servers: Servers that runs Active Directory services aka Domain Controllers, Child Servers: Microsoft Servers for deal with spesific needs (IIS Server, MSSQL Server etc.), Client Machines: For usage of clients (Win7, Win10 etc), Domain Admin Group Users: Users with highest level privilege in Domain forest which can controll all computers in domain forest, Other Groups and Users: Users created by Domain Admin users for spesific privileges. **A local user of Client Machine or Child server is not an AD user, but by using that user an AD user can be gained.** A Domain Controller authenticates and authorizes all users and computers in a Windows Domain Forest and it can enforce security policies for all computers and can also install or update software. Just like as it sounds, every local administrator users of Domain Controller is basicly Domain Admin. By using these users, all jobs described above can be done via any computer of Domain Forest (without accessing DC remotely). Schema & More Detail: https://docs.microsoft.com/en-us/windows-server/identity/ad-ds/plan/usingthe- organizational-domain-forest-model Auditing Microsoft Domain Environment 3 Auditing Microsoft Domain Environment About Auditing: Our golden mission is capturing Domain Admin User due to gain complete control in all Domain computers. But, in some scenarios users with fewer level privileges can lead to huge information leaks. Therefore, in the way of capturing a Domain Admin user we do try gaining as much as user we can. In internal penetration tests, companies usually provide strictly low privileged active directory users to penetration testers and also sometimes, we do gain a few users by exploiting vulnerabilities, sniffing&spoofing attacks, social engineering attacks and password attacks etc. By using those users we capture compromise whole domain forest. In this article, I will show few ways I've been using Penetration against Microsoft Domain Envrioments. Auditing Microsoft Domain Environment 4 Auditing Microsoft Domain Environment Gaining First User: Usually, if i’m not in a isolated LAN network i do try LLMNR&NBNTS spoofing attacks due to gain an account. To do so, there is a great tool exists called Responder. If you are new to this topics here is quick 101: LLMNR: Link Local Multicast Name Resolution (LLMNR) is a protocol defined in RFC 4795 that allows both IPv6 and IPv4 hosts to perform name resolution for the names of neighboring computers without requiring a DNS server or DNS client configuration. NBT-NS is a similar protocol to LLMNR that serves the same purpose. The main difference between the two is NBT-NS works over IPv4 only LLMNR&NBT-NS Spoofing: Whenever a user try to reach an unexisted sharepoint or computer which cannot be find by DNS queries, user asks whole network to “Anyone knows where is this \\\\sharepoint” by using LLMNR queries. Pretty much as it sounds, if an attacker says “Yeah its right here” attacker can capture users Ntlm / Ntlmv2 hashes as soon as user(victim) try to connect attacker’s machine. https://en.wikipedia.org/wiki/Link-Local_Multicast_Name_Resolution Auditing Microsoft Domain Environment 5 Auditing Microsoft Domain Environment Setting Up Spoofing Environment: As we mentioned before, there is a great tool exist for performing this job. In default Kali Linux setup, you reach your responder by typing Responder on your terminal. It uses SMB Server to capture Ntlm hashes so stop your smb service if its running (service smbd stop).Enumerating AD Users and Groups With Gained User: We captured a user so what’s next ? After capturing a user first thing we need to do is checking its privileges, in this article we will be pretending like the user we captured has very low privilege. Lets say that we didn’t go further (privesc etc.) with this privileges. Even if we cant elevate our privileges with the user we captured we still can do enumerate Active Directory users, computers, groups etc. by using ldap queries for further investigation. To do so Im using a script from github called windapsearch which can perform many ldap jobs very fast.Checking Common Vulnerabilities: As we see from above, we have an indows 7 client and also an SQL server exists on domain forest. Lets check if there is ms17_010 vulnerability exists on those systems and also we must consider to check if sa user of mssql service is suffering from basic password usage. Checking ms17_010 vulnerability:\""
      ]
     },
     "execution_count": 13,
     "metadata": {},
     "output_type": "execute_result"
    }
   ],
   "source": [
    "article_text"
   ]
  },
  {
   "cell_type": "code",
   "execution_count": 15,
   "metadata": {},
   "outputs": [
    {
     "name": "stdout",
     "output_type": "stream",
     "text": [
      "About The Microsoft Domain Environments: What to expect about Domain Environments is: Mother Servers: Servers that runs Active Directory services aka Domain Controllers, Child Servers: Microsoft Servers for deal with spesific needs (IIS Server, MSSQL Server etc.), Client Machines: For usage of clients (Win7, Win10 etc), Domain Admin Group Users: Users with highest level privilege in Domain forest which can controll all computers in domain forest, Other Groups and Users: Users created by Domain Admin users for spesific privileges.\n",
      "Schema & More Detail: https://docs.microsoft.com/en-us/windows-server/identity/ad-ds/plan/usingthe- organizational-domain-forest-model Auditing Microsoft Domain Environment 3 Auditing Microsoft Domain Environment About Auditing: Our golden mission is capturing Domain Admin User due to gain complete control in all Domain computers.\n",
      "To do so Im using a script from github called windapsearch which can perform many ldap jobs very fast.Checking Common Vulnerabilities: As we see from above, we have an indows 7 client and also an SQL server exists on domain forest.\n"
     ]
    }
   ],
   "source": [
    "from gensim.summarization.summarizer import summarize\n",
    "print(summarize(article_text, ratio= 0.12))"
   ]
  },
  {
   "cell_type": "code",
   "execution_count": null,
   "metadata": {},
   "outputs": [],
   "source": []
  }
 ],
 "metadata": {
  "kernelspec": {
   "display_name": "Python 3",
   "language": "python",
   "name": "python3"
  },
  "language_info": {
   "codemirror_mode": {
    "name": "ipython",
    "version": 3
   },
   "file_extension": ".py",
   "mimetype": "text/x-python",
   "name": "python",
   "nbconvert_exporter": "python",
   "pygments_lexer": "ipython3",
   "version": "3.7.3"
  }
 },
 "nbformat": 4,
 "nbformat_minor": 2
}
